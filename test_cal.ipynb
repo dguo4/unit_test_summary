{
  "nbformat": 4,
  "nbformat_minor": 0,
  "metadata": {
    "colab": {
      "name": "test_cal.ipynb",
      "provenance": [],
      "authorship_tag": "ABX9TyNK6zoGZRQ/MGk+i94pN2vs",
      "include_colab_link": true
    },
    "kernelspec": {
      "name": "python3",
      "display_name": "Python 3"
    }
  },
  "cells": [
    {
      "cell_type": "markdown",
      "metadata": {
        "id": "view-in-github",
        "colab_type": "text"
      },
      "source": [
        "<a href=\"https://colab.research.google.com/github/dguo4/unit_test_summary/blob/main/test_cal.ipynb\" target=\"_parent\"><img src=\"https://colab.research.google.com/assets/colab-badge.svg\" alt=\"Open In Colab\"/></a>"
      ]
    },
    {
      "cell_type": "code",
      "metadata": {
        "id": "Jr9RgYzfU0UQ"
      },
      "source": [
        "import unittest\r\n",
        "import calc\r\n",
        "\r\n",
        "\r\n",
        "class TestCalc(unittest.TestCase):\r\n",
        "\r\n",
        "    def test_add(self):\r\n",
        "        self.assertEqual(calc.add(10, 5), 15)\r\n",
        "        self.assertEqual(calc.add(-1, 1), 0)\r\n",
        "        self.assertEqual(calc.add(-1, -1), -2)\r\n",
        "\r\n",
        "    def test_subtract(self):\r\n",
        "        self.assertEqual(calc.subtract(10, 5), 5)\r\n",
        "        self.assertEqual(calc.subtract(-1, 1), -2)\r\n",
        "        self.assertEqual(calc.subtract(-1, -1), 0)\r\n",
        "\r\n",
        "    def test_multiply(self):\r\n",
        "        self.assertEqual(calc.multiply(10, 5), 50)\r\n",
        "        self.assertEqual(calc.multiply(-1, 1), -1)\r\n",
        "        self.assertEqual(calc.multiply(-1, -1), 1)\r\n",
        "\r\n",
        "    def test_divide(self):\r\n",
        "        self.assertEqual(calc.divide(10, 5), 2)\r\n",
        "        self.assertEqual(calc.divide(-1, 1), -1)\r\n",
        "        self.assertEqual(calc.divide(-1, -1), 1)\r\n",
        "        self.assertEqual(calc.divide(5, 2), 2.5)\r\n",
        "\r\n",
        "        with self.assertRaises(ValueError):\r\n",
        "            calc.divide(10, 0)\r\n",
        "\r\n",
        "\r\n",
        "if __name__ == '__main__':\r\n",
        "    unittest.main()"
      ],
      "execution_count": null,
      "outputs": []
    }
  ]
}