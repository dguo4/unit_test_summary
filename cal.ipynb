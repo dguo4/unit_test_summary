{
  "nbformat": 4,
  "nbformat_minor": 0,
  "metadata": {
    "colab": {
      "name": "cal.ipynb",
      "provenance": [],
      "authorship_tag": "ABX9TyPZYuuYGYzZgNbKaVmuJX8b",
      "include_colab_link": true
    },
    "kernelspec": {
      "name": "python3",
      "display_name": "Python 3"
    }
  },
  "cells": [
    {
      "cell_type": "markdown",
      "metadata": {
        "id": "view-in-github",
        "colab_type": "text"
      },
      "source": [
        "<a href=\"https://colab.research.google.com/github/dguo4/unit_test_summary/blob/main/cal.ipynb\" target=\"_parent\"><img src=\"https://colab.research.google.com/assets/colab-badge.svg\" alt=\"Open In Colab\"/></a>"
      ]
    },
    {
      "cell_type": "code",
      "metadata": {
        "id": "Jr9RgYzfU0UQ"
      },
      "source": [
        "def add(x, y):\r\n",
        "    \"\"\"Add Function\"\"\"\r\n",
        "    return x + y\r\n",
        "\r\n",
        "\r\n",
        "def subtract(x, y):\r\n",
        "    \"\"\"Subtract Function\"\"\"\r\n",
        "    return x - y\r\n",
        "\r\n",
        "\r\n",
        "def multiply(x, y):\r\n",
        "    \"\"\"Multiply Function\"\"\"\r\n",
        "    return x * y\r\n",
        "\r\n",
        "\r\n",
        "def divide(x, y):\r\n",
        "    \"\"\"Divide Function\"\"\"\r\n",
        "    if y == 0:\r\n",
        "        raise ValueError('Can not divide by zero!')\r\n",
        "    return x / y"
      ],
      "execution_count": null,
      "outputs": []
    }
  ]
}